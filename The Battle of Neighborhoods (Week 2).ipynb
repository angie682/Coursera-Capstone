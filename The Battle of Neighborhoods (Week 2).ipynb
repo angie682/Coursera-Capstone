{
    "cells": [
        {
            "metadata": {
                "collapsed": true
            },
            "cell_type": "markdown",
            "source": "# The Battle of Neighbourhoods"
        },
        {
            "metadata": {},
            "cell_type": "markdown",
            "source": "## 1. Introduction"
        },
        {
            "metadata": {},
            "cell_type": "markdown",
            "source": "### 1.1 Description of the Problem"
        },
        {
            "metadata": {},
            "cell_type": "markdown",
            "source": "The population of London has grown considerably over the last decades. London is very diverse. It represents what is called the reflection of the old British Empire. In London, you can get fresh food supplies from Africa. One begins to wonder how efficient the supply mechanism is.\n\nThe real deal is that as much as there are many fine restaurants in London \u2013 Asian, Middle Eastern, Latin and American restaurants, you can struggle to find good place to dine in the finest of West African cuisine that has combination of Nigerian, Ghanaian, Cameroonian, Senegalese and more.\n\nEating in a cosy environment with a blend of multicultural background and finely made West African dishes, on time and on point in a London location accessible to tourists, within central London and not far from the \"unofficial\" capital african market place - Peckham."
        },
        {
            "metadata": {},
            "cell_type": "markdown",
            "source": "### 1.2 Discussion of the Background"
        },
        {
            "metadata": {},
            "cell_type": "markdown",
            "source": "My client, a successful restaurant chain in Africa is looking to expand operation into Europe through London. They want to create a high-end restaurant that comes with organic mix and healthy. Their target is not only West Africans, but they are pro-organic and healthy eating. To them every meal counts and counts as a royal when you eat.\n\nSince the London demography is so big, my client needs deeper insight from available data in other to decide where to establish the first Europe \u201cpalace\u201d restaurant. This company spends a lot on research and provides customers with data insight into the ingredients used at restaurants.\n\n"
        },
        {
            "metadata": {},
            "cell_type": "markdown",
            "source": "### 1.3 Target Audience"
        },
        {
            "metadata": {},
            "cell_type": "markdown",
            "source": "Considering the diversity of London, there is a high multicultural sense. London is a place where different shades live. As such, in the search for an high-end African-inclined restaurant, there is a high shortage. The target audience is broad, it ranges from Londoners, tourists and those who are passionate about organic food.\n\n"
        },
        {
            "metadata": {},
            "cell_type": "markdown",
            "source": "## 2. Data"
        },
        {
            "metadata": {},
            "cell_type": "markdown",
            "source": "### 2.1 Description of Data"
        },
        {
            "metadata": {},
            "cell_type": "markdown",
            "source": "This project will rely on public data from Wikipedia and Foursquare."
        },
        {
            "metadata": {},
            "cell_type": "markdown",
            "source": "### 2.1.1 Dataset 1:"
        },
        {
            "metadata": {},
            "cell_type": "markdown",
            "source": "In this project, London will be used as synonymous to the \"Greater London Area\" in this project. Within the Greater London Area, there are areas that are within the London Area Postcode. The focus of this project will be the nieghbourhoods are that are within the London Post Code area.\n\nThe London Area consists of 32 Boroughs and the \"City of London\". Our data will be from the link - Greater London Area <https://en.wikipedia.org/wiki/List_of_areas_of_London >\n\nThe web scrapped of the Wikipedia page for the Greater London Area data is provided below:"
        },
        {
            "metadata": {},
            "cell_type": "code",
            "source": "# library for BeautifulSoup\nfrom bs4 import BeautifulSoup\n\n# library to handle data in a vectorized manner\nimport numpy as np\n\n# library for data analsysis\nimport pandas as pd\npd.set_option('display.max_columns', None)\npd.set_option('display.max_rows', None)\n\n# library to handle JSON files\nimport json\nprint('numpy, pandas, ..., imported...')\n\n!pip -q install geopy\n# conda install -c conda-forge geopy --yes # uncomment this line if you haven't completed the Foursquare API lab\nprint('geopy installed...')\n# convert an address into latitude and longitude values\nfrom geopy.geocoders import Nominatim\nprint\n('Nominatim imported...')\n\n# library to handle requests\nimport requests\nprint('requests imported...')\n\n# tranform JSON file into a pandas dataframe\nfrom pandas.io.json import json_normalize\nprint('json_normalize imported...')\n# Matplotlib and associated plotting modules\nimport matplotlib.cm as cm\nimport matplotlib.colors as colors\nprint('matplotlib imported...')\n\n# import k-means from clustering stage\nfrom sklearn.cluster import KMeans\nprint('Kmeans imported...')\n\n# install the Geocoder\n!pip -q install geocoder\nimport geocoder\n\n# import time\nimport time\n\n# !conda install -c conda-forge folium=0.5.0 --yes # uncomment this line if you haven't completed the Foursquare API lab\n!pip -q install folium\nprint('folium installed...')\nimport folium # map rendering library\nprint('folium imported...')\nprint('...Done')",
            "execution_count": 1,
            "outputs": [
                {
                    "output_type": "stream",
                    "text": "numpy, pandas, ..., imported...\ngeopy installed...\nrequests imported...\njson_normalize imported...\nmatplotlib imported...\nKmeans imported...\nfolium installed...\nfolium imported...\n...Done\n",
                    "name": "stdout"
                }
            ]
        },
        {
            "metadata": {},
            "cell_type": "code",
            "source": "wikipedia_link = 'https://en.wikipedia.org/wiki/List_of_areas_of_London'\nheaders = {'User-Agent': 'Mozilla/5.0 (Windows NT 10.0; Win64; x64; rv:64.0) Gecko/20100101 Firefox/64.0'}\nwikipedia_page = requests.get(wikipedia_link, headers = headers)\nwikipedia_page",
            "execution_count": 2,
            "outputs": [
                {
                    "output_type": "execute_result",
                    "execution_count": 2,
                    "data": {
                        "text/plain": "<Response [200]>"
                    },
                    "metadata": {}
                }
            ]
        },
        {
            "metadata": {},
            "cell_type": "code",
            "source": "# Cleans html file\nsoup = BeautifulSoup(wikipedia_page.content, 'html.parser')\n# This extracts the \"tbody\" within the table where class is \"wikitable sortable\"\ntable = soup.find('table', {'class':'wikitable sortable'}).tbody",
            "execution_count": 3,
            "outputs": []
        },
        {
            "metadata": {},
            "cell_type": "code",
            "source": "# Extracts all \"tr\" (table rows) within the table above\nrows = table.find_all('tr')",
            "execution_count": 4,
            "outputs": []
        },
        {
            "metadata": {},
            "cell_type": "code",
            "source": "# Extracts the column headers, removes and replaces possible '\\n' with space for the \"th\" tag\ncolumns = [i.text.replace('\\n', '')\n           for i in rows[0].find_all('th')]",
            "execution_count": 5,
            "outputs": []
        },
        {
            "metadata": {},
            "cell_type": "code",
            "source": "# Converts columns to pd dataframe\ndf = pd.DataFrame(columns = columns)\ndf",
            "execution_count": 6,
            "outputs": [
                {
                    "output_type": "execute_result",
                    "execution_count": 6,
                    "data": {
                        "text/plain": "Empty DataFrame\nColumns: [Location, London\u00a0borough, Post town, Postcode\u00a0district, Dial\u00a0code, OS grid ref]\nIndex: []",
                        "text/html": "<div>\n<style scoped>\n    .dataframe tbody tr th:only-of-type {\n        vertical-align: middle;\n    }\n\n    .dataframe tbody tr th {\n        vertical-align: top;\n    }\n\n    .dataframe thead th {\n        text-align: right;\n    }\n</style>\n<table border=\"1\" class=\"dataframe\">\n  <thead>\n    <tr style=\"text-align: right;\">\n      <th></th>\n      <th>Location</th>\n      <th>London\u00a0borough</th>\n      <th>Post town</th>\n      <th>Postcode\u00a0district</th>\n      <th>Dial\u00a0code</th>\n      <th>OS grid ref</th>\n    </tr>\n  </thead>\n  <tbody>\n  </tbody>\n</table>\n</div>"
                    },
                    "metadata": {}
                }
            ]
        },
        {
            "metadata": {},
            "cell_type": "code",
            "source": "# Extracts every row with corresponding columns\n# Then appends the values to the create pd dataframe \"df\"\n# Please note that the first row (row[0]) is skipped because it is already the header\nfor i in range(1, len(rows)):\n    tds = rows[i].find_all('td')\n    \n    \n    if len(tds) == 7:\n        values = [tds[0].text, tds[1].text, tds[2].text.replace('\\n', ''.replace('\\xa0','')), tds[3].text, tds[4].text.replace('\\n', ''.replace('\\xa0','')), tds[5].text.replace('\\n', ''.replace('\\xa0','')), tds[6].text.replace('\\n', ''.replace('\\xa0',''))]\n    else:\n        values = [td.text.replace('\\n', '').replace('\\xa0','') for td in tds]\n        \n        df = df.append(pd.Series(values, index = columns), ignore_index = True)\n\n        df",
            "execution_count": 7,
            "outputs": []
        },
        {
            "metadata": {},
            "cell_type": "code",
            "source": "df.head(5)",
            "execution_count": 8,
            "outputs": [
                {
                    "output_type": "execute_result",
                    "execution_count": 8,
                    "data": {
                        "text/plain": "      Location                     London\u00a0borough       Post town  \\\n0   Abbey Wood             Bexley,  Greenwich [7]          LONDON   \n1        Acton  Ealing, Hammersmith and Fulham[8]          LONDON   \n2    Addington                         Croydon[8]         CROYDON   \n3   Addiscombe                         Croydon[8]         CROYDON   \n4  Albany Park                             Bexley  BEXLEY, SIDCUP   \n\n  Postcode\u00a0district Dial\u00a0code OS grid ref  \n0               SE2       020    TQ465785  \n1            W3, W4       020    TQ205805  \n2               CR0       020    TQ375645  \n3               CR0       020    TQ345665  \n4         DA5, DA14       020    TQ478728  ",
                        "text/html": "<div>\n<style scoped>\n    .dataframe tbody tr th:only-of-type {\n        vertical-align: middle;\n    }\n\n    .dataframe tbody tr th {\n        vertical-align: top;\n    }\n\n    .dataframe thead th {\n        text-align: right;\n    }\n</style>\n<table border=\"1\" class=\"dataframe\">\n  <thead>\n    <tr style=\"text-align: right;\">\n      <th></th>\n      <th>Location</th>\n      <th>London\u00a0borough</th>\n      <th>Post town</th>\n      <th>Postcode\u00a0district</th>\n      <th>Dial\u00a0code</th>\n      <th>OS grid ref</th>\n    </tr>\n  </thead>\n  <tbody>\n    <tr>\n      <th>0</th>\n      <td>Abbey Wood</td>\n      <td>Bexley,  Greenwich [7]</td>\n      <td>LONDON</td>\n      <td>SE2</td>\n      <td>020</td>\n      <td>TQ465785</td>\n    </tr>\n    <tr>\n      <th>1</th>\n      <td>Acton</td>\n      <td>Ealing, Hammersmith and Fulham[8]</td>\n      <td>LONDON</td>\n      <td>W3, W4</td>\n      <td>020</td>\n      <td>TQ205805</td>\n    </tr>\n    <tr>\n      <th>2</th>\n      <td>Addington</td>\n      <td>Croydon[8]</td>\n      <td>CROYDON</td>\n      <td>CR0</td>\n      <td>020</td>\n      <td>TQ375645</td>\n    </tr>\n    <tr>\n      <th>3</th>\n      <td>Addiscombe</td>\n      <td>Croydon[8]</td>\n      <td>CROYDON</td>\n      <td>CR0</td>\n      <td>020</td>\n      <td>TQ345665</td>\n    </tr>\n    <tr>\n      <th>4</th>\n      <td>Albany Park</td>\n      <td>Bexley</td>\n      <td>BEXLEY, SIDCUP</td>\n      <td>DA5, DA14</td>\n      <td>020</td>\n      <td>TQ478728</td>\n    </tr>\n  </tbody>\n</table>\n</div>"
                    },
                    "metadata": {}
                }
            ]
        },
        {
            "metadata": {},
            "cell_type": "code",
            "source": "df = df.rename(index=str, columns = {'Location': 'Location', 'London\\xa0borough': 'Borough', 'Post town': 'Post-town', 'Postcode\\xa0district': 'Postcode', 'Dial\\xa0code': 'Dial-code', 'OS grid ref': 'OSGridRef'})",
            "execution_count": 9,
            "outputs": []
        },
        {
            "metadata": {},
            "cell_type": "code",
            "source": "df.head(5)\n",
            "execution_count": 10,
            "outputs": [
                {
                    "output_type": "execute_result",
                    "execution_count": 10,
                    "data": {
                        "text/plain": "      Location                            Borough       Post-town   Postcode  \\\n0   Abbey Wood             Bexley,  Greenwich [7]          LONDON        SE2   \n1        Acton  Ealing, Hammersmith and Fulham[8]          LONDON     W3, W4   \n2    Addington                         Croydon[8]         CROYDON        CR0   \n3   Addiscombe                         Croydon[8]         CROYDON        CR0   \n4  Albany Park                             Bexley  BEXLEY, SIDCUP  DA5, DA14   \n\n  Dial-code OSGridRef  \n0       020  TQ465785  \n1       020  TQ205805  \n2       020  TQ375645  \n3       020  TQ345665  \n4       020  TQ478728  ",
                        "text/html": "<div>\n<style scoped>\n    .dataframe tbody tr th:only-of-type {\n        vertical-align: middle;\n    }\n\n    .dataframe tbody tr th {\n        vertical-align: top;\n    }\n\n    .dataframe thead th {\n        text-align: right;\n    }\n</style>\n<table border=\"1\" class=\"dataframe\">\n  <thead>\n    <tr style=\"text-align: right;\">\n      <th></th>\n      <th>Location</th>\n      <th>Borough</th>\n      <th>Post-town</th>\n      <th>Postcode</th>\n      <th>Dial-code</th>\n      <th>OSGridRef</th>\n    </tr>\n  </thead>\n  <tbody>\n    <tr>\n      <th>0</th>\n      <td>Abbey Wood</td>\n      <td>Bexley,  Greenwich [7]</td>\n      <td>LONDON</td>\n      <td>SE2</td>\n      <td>020</td>\n      <td>TQ465785</td>\n    </tr>\n    <tr>\n      <th>1</th>\n      <td>Acton</td>\n      <td>Ealing, Hammersmith and Fulham[8]</td>\n      <td>LONDON</td>\n      <td>W3, W4</td>\n      <td>020</td>\n      <td>TQ205805</td>\n    </tr>\n    <tr>\n      <th>2</th>\n      <td>Addington</td>\n      <td>Croydon[8]</td>\n      <td>CROYDON</td>\n      <td>CR0</td>\n      <td>020</td>\n      <td>TQ375645</td>\n    </tr>\n    <tr>\n      <th>3</th>\n      <td>Addiscombe</td>\n      <td>Croydon[8]</td>\n      <td>CROYDON</td>\n      <td>CR0</td>\n      <td>020</td>\n      <td>TQ345665</td>\n    </tr>\n    <tr>\n      <th>4</th>\n      <td>Albany Park</td>\n      <td>Bexley</td>\n      <td>BEXLEY, SIDCUP</td>\n      <td>DA5, DA14</td>\n      <td>020</td>\n      <td>TQ478728</td>\n    </tr>\n  </tbody>\n</table>\n</div>"
                    },
                    "metadata": {}
                }
            ]
        },
        {
            "metadata": {},
            "cell_type": "code",
            "source": "df['Borough'] = df['Borough'].map(lambda x: x.rstrip(']').rstrip('0123456789').rstrip('['))\n",
            "execution_count": 11,
            "outputs": []
        },
        {
            "metadata": {},
            "cell_type": "code",
            "source": "df.shape\n",
            "execution_count": 12,
            "outputs": [
                {
                    "output_type": "execute_result",
                    "execution_count": 12,
                    "data": {
                        "text/plain": "(533, 6)"
                    },
                    "metadata": {}
                }
            ]
        },
        {
            "metadata": {},
            "cell_type": "code",
            "source": "df.head(5)\n",
            "execution_count": 13,
            "outputs": [
                {
                    "output_type": "execute_result",
                    "execution_count": 13,
                    "data": {
                        "text/plain": "      Location                         Borough       Post-town   Postcode  \\\n0   Abbey Wood             Bexley,  Greenwich           LONDON        SE2   \n1        Acton  Ealing, Hammersmith and Fulham          LONDON     W3, W4   \n2    Addington                         Croydon         CROYDON        CR0   \n3   Addiscombe                         Croydon         CROYDON        CR0   \n4  Albany Park                          Bexley  BEXLEY, SIDCUP  DA5, DA14   \n\n  Dial-code OSGridRef  \n0       020  TQ465785  \n1       020  TQ205805  \n2       020  TQ375645  \n3       020  TQ345665  \n4       020  TQ478728  ",
                        "text/html": "<div>\n<style scoped>\n    .dataframe tbody tr th:only-of-type {\n        vertical-align: middle;\n    }\n\n    .dataframe tbody tr th {\n        vertical-align: top;\n    }\n\n    .dataframe thead th {\n        text-align: right;\n    }\n</style>\n<table border=\"1\" class=\"dataframe\">\n  <thead>\n    <tr style=\"text-align: right;\">\n      <th></th>\n      <th>Location</th>\n      <th>Borough</th>\n      <th>Post-town</th>\n      <th>Postcode</th>\n      <th>Dial-code</th>\n      <th>OSGridRef</th>\n    </tr>\n  </thead>\n  <tbody>\n    <tr>\n      <th>0</th>\n      <td>Abbey Wood</td>\n      <td>Bexley,  Greenwich</td>\n      <td>LONDON</td>\n      <td>SE2</td>\n      <td>020</td>\n      <td>TQ465785</td>\n    </tr>\n    <tr>\n      <th>1</th>\n      <td>Acton</td>\n      <td>Ealing, Hammersmith and Fulham</td>\n      <td>LONDON</td>\n      <td>W3, W4</td>\n      <td>020</td>\n      <td>TQ205805</td>\n    </tr>\n    <tr>\n      <th>2</th>\n      <td>Addington</td>\n      <td>Croydon</td>\n      <td>CROYDON</td>\n      <td>CR0</td>\n      <td>020</td>\n      <td>TQ375645</td>\n    </tr>\n    <tr>\n      <th>3</th>\n      <td>Addiscombe</td>\n      <td>Croydon</td>\n      <td>CROYDON</td>\n      <td>CR0</td>\n      <td>020</td>\n      <td>TQ345665</td>\n    </tr>\n    <tr>\n      <th>4</th>\n      <td>Albany Park</td>\n      <td>Bexley</td>\n      <td>BEXLEY, SIDCUP</td>\n      <td>DA5, DA14</td>\n      <td>020</td>\n      <td>TQ478728</td>\n    </tr>\n  </tbody>\n</table>\n</div>"
                    },
                    "metadata": {}
                }
            ]
        },
        {
            "metadata": {},
            "cell_type": "markdown",
            "source": "London is big and due to the limitations in the number of calls for the Foursquare API, the following assumptions are made to confine this project to only South East London.\n\nAssumption 1: Where the Postcode are more than one, (for example, in Acton, there are 2 postcodes - W3 and W4), the postcodes are spread to multi-rows and assigned the same values from the other columns."
        },
        {
            "metadata": {},
            "cell_type": "code",
            "source": "df0 = df.drop('Postcode', axis=1).join(df['Postcode'].str.split(',', expand=True).stack().reset_index(level=1, drop=True).rename('Postcode'))",
            "execution_count": 14,
            "outputs": []
        },
        {
            "metadata": {},
            "cell_type": "code",
            "source": "df0.head(5)\n",
            "execution_count": 15,
            "outputs": [
                {
                    "output_type": "execute_result",
                    "execution_count": 15,
                    "data": {
                        "text/plain": "      Location                         Borough Post-town Dial-code OSGridRef  \\\n0   Abbey Wood             Bexley,  Greenwich     LONDON       020  TQ465785   \n1        Acton  Ealing, Hammersmith and Fulham    LONDON       020  TQ205805   \n1        Acton  Ealing, Hammersmith and Fulham    LONDON       020  TQ205805   \n10       Angel                       Islington    LONDON       020  TQ345665   \n10       Angel                       Islington    LONDON       020  TQ345665   \n\n   Postcode  \n0       SE2  \n1        W3  \n1        W4  \n10      EC1  \n10       N1  ",
                        "text/html": "<div>\n<style scoped>\n    .dataframe tbody tr th:only-of-type {\n        vertical-align: middle;\n    }\n\n    .dataframe tbody tr th {\n        vertical-align: top;\n    }\n\n    .dataframe thead th {\n        text-align: right;\n    }\n</style>\n<table border=\"1\" class=\"dataframe\">\n  <thead>\n    <tr style=\"text-align: right;\">\n      <th></th>\n      <th>Location</th>\n      <th>Borough</th>\n      <th>Post-town</th>\n      <th>Dial-code</th>\n      <th>OSGridRef</th>\n      <th>Postcode</th>\n    </tr>\n  </thead>\n  <tbody>\n    <tr>\n      <th>0</th>\n      <td>Abbey Wood</td>\n      <td>Bexley,  Greenwich</td>\n      <td>LONDON</td>\n      <td>020</td>\n      <td>TQ465785</td>\n      <td>SE2</td>\n    </tr>\n    <tr>\n      <th>1</th>\n      <td>Acton</td>\n      <td>Ealing, Hammersmith and Fulham</td>\n      <td>LONDON</td>\n      <td>020</td>\n      <td>TQ205805</td>\n      <td>W3</td>\n    </tr>\n    <tr>\n      <th>1</th>\n      <td>Acton</td>\n      <td>Ealing, Hammersmith and Fulham</td>\n      <td>LONDON</td>\n      <td>020</td>\n      <td>TQ205805</td>\n      <td>W4</td>\n    </tr>\n    <tr>\n      <th>10</th>\n      <td>Angel</td>\n      <td>Islington</td>\n      <td>LONDON</td>\n      <td>020</td>\n      <td>TQ345665</td>\n      <td>EC1</td>\n    </tr>\n    <tr>\n      <th>10</th>\n      <td>Angel</td>\n      <td>Islington</td>\n      <td>LONDON</td>\n      <td>020</td>\n      <td>TQ345665</td>\n      <td>N1</td>\n    </tr>\n  </tbody>\n</table>\n</div>"
                    },
                    "metadata": {}
                }
            ]
        },
        {
            "metadata": {},
            "cell_type": "code",
            "source": "df0.shape\n",
            "execution_count": 16,
            "outputs": [
                {
                    "output_type": "execute_result",
                    "execution_count": 16,
                    "data": {
                        "text/plain": "(637, 6)"
                    },
                    "metadata": {}
                }
            ]
        },
        {
            "metadata": {},
            "cell_type": "markdown",
            "source": "As seen above, there are separate rows for Postcodes - W3and W4; same goes for the others too.\n\nAssumption 2: From the data, only the 'Location', 'Borough', 'Postcode', 'Post-town' will be used for this project. So they are extracted into a new data frame."
        },
        {
            "metadata": {},
            "cell_type": "code",
            "source": "df1 = df0[['Location', 'Borough', 'Postcode', 'Post-town']].reset_index(drop=True)\n",
            "execution_count": 17,
            "outputs": []
        },
        {
            "metadata": {},
            "cell_type": "code",
            "source": "df1.head(5)\n",
            "execution_count": 18,
            "outputs": [
                {
                    "output_type": "execute_result",
                    "execution_count": 18,
                    "data": {
                        "text/plain": "     Location                         Borough Postcode Post-town\n0  Abbey Wood             Bexley,  Greenwich       SE2    LONDON\n1       Acton  Ealing, Hammersmith and Fulham       W3    LONDON\n2       Acton  Ealing, Hammersmith and Fulham       W4    LONDON\n3       Angel                       Islington      EC1    LONDON\n4       Angel                       Islington       N1    LONDON",
                        "text/html": "<div>\n<style scoped>\n    .dataframe tbody tr th:only-of-type {\n        vertical-align: middle;\n    }\n\n    .dataframe tbody tr th {\n        vertical-align: top;\n    }\n\n    .dataframe thead th {\n        text-align: right;\n    }\n</style>\n<table border=\"1\" class=\"dataframe\">\n  <thead>\n    <tr style=\"text-align: right;\">\n      <th></th>\n      <th>Location</th>\n      <th>Borough</th>\n      <th>Postcode</th>\n      <th>Post-town</th>\n    </tr>\n  </thead>\n  <tbody>\n    <tr>\n      <th>0</th>\n      <td>Abbey Wood</td>\n      <td>Bexley,  Greenwich</td>\n      <td>SE2</td>\n      <td>LONDON</td>\n    </tr>\n    <tr>\n      <th>1</th>\n      <td>Acton</td>\n      <td>Ealing, Hammersmith and Fulham</td>\n      <td>W3</td>\n      <td>LONDON</td>\n    </tr>\n    <tr>\n      <th>2</th>\n      <td>Acton</td>\n      <td>Ealing, Hammersmith and Fulham</td>\n      <td>W4</td>\n      <td>LONDON</td>\n    </tr>\n    <tr>\n      <th>3</th>\n      <td>Angel</td>\n      <td>Islington</td>\n      <td>EC1</td>\n      <td>LONDON</td>\n    </tr>\n    <tr>\n      <th>4</th>\n      <td>Angel</td>\n      <td>Islington</td>\n      <td>N1</td>\n      <td>LONDON</td>\n    </tr>\n  </tbody>\n</table>\n</div>"
                    },
                    "metadata": {}
                }
            ]
        },
        {
            "metadata": {},
            "cell_type": "code",
            "source": "df1.shape\n",
            "execution_count": 19,
            "outputs": [
                {
                    "output_type": "execute_result",
                    "execution_count": 19,
                    "data": {
                        "text/plain": "(637, 4)"
                    },
                    "metadata": {}
                }
            ]
        },
        {
            "metadata": {},
            "cell_type": "markdown",
            "source": "Assumption 3: Now, only the Boroughs with London Post-town will be used for our search of location. Therefore, all the non-post-town are dropped."
        },
        {
            "metadata": {},
            "cell_type": "code",
            "source": "df2 = df1\ndf21 = df2[df2['Post-town'].str.contains('LONDON')]",
            "execution_count": 20,
            "outputs": []
        },
        {
            "metadata": {},
            "cell_type": "code",
            "source": "df21.head(5)\n",
            "execution_count": 21,
            "outputs": [
                {
                    "output_type": "execute_result",
                    "execution_count": 21,
                    "data": {
                        "text/plain": "     Location                         Borough Postcode Post-town\n0  Abbey Wood             Bexley,  Greenwich       SE2    LONDON\n1       Acton  Ealing, Hammersmith and Fulham       W3    LONDON\n2       Acton  Ealing, Hammersmith and Fulham       W4    LONDON\n3       Angel                       Islington      EC1    LONDON\n4       Angel                       Islington       N1    LONDON",
                        "text/html": "<div>\n<style scoped>\n    .dataframe tbody tr th:only-of-type {\n        vertical-align: middle;\n    }\n\n    .dataframe tbody tr th {\n        vertical-align: top;\n    }\n\n    .dataframe thead th {\n        text-align: right;\n    }\n</style>\n<table border=\"1\" class=\"dataframe\">\n  <thead>\n    <tr style=\"text-align: right;\">\n      <th></th>\n      <th>Location</th>\n      <th>Borough</th>\n      <th>Postcode</th>\n      <th>Post-town</th>\n    </tr>\n  </thead>\n  <tbody>\n    <tr>\n      <th>0</th>\n      <td>Abbey Wood</td>\n      <td>Bexley,  Greenwich</td>\n      <td>SE2</td>\n      <td>LONDON</td>\n    </tr>\n    <tr>\n      <th>1</th>\n      <td>Acton</td>\n      <td>Ealing, Hammersmith and Fulham</td>\n      <td>W3</td>\n      <td>LONDON</td>\n    </tr>\n    <tr>\n      <th>2</th>\n      <td>Acton</td>\n      <td>Ealing, Hammersmith and Fulham</td>\n      <td>W4</td>\n      <td>LONDON</td>\n    </tr>\n    <tr>\n      <th>3</th>\n      <td>Angel</td>\n      <td>Islington</td>\n      <td>EC1</td>\n      <td>LONDON</td>\n    </tr>\n    <tr>\n      <th>4</th>\n      <td>Angel</td>\n      <td>Islington</td>\n      <td>N1</td>\n      <td>LONDON</td>\n    </tr>\n  </tbody>\n</table>\n</div>"
                    },
                    "metadata": {}
                }
            ]
        },
        {
            "metadata": {},
            "cell_type": "code",
            "source": "df21.shape\n",
            "execution_count": 22,
            "outputs": [
                {
                    "output_type": "execute_result",
                    "execution_count": 22,
                    "data": {
                        "text/plain": "(381, 4)"
                    },
                    "metadata": {}
                }
            ]
        },
        {
            "metadata": {},
            "cell_type": "markdown",
            "source": "From assumption 3, there are now 380 instances, which is a drop from 638 because of the drop of non-London post-towns."
        },
        {
            "metadata": {},
            "cell_type": "code",
            "source": "# Re-assigns the df21 to new dataframe without the Post-town\ndf3 = df21[['Location', 'Borough', 'Postcode']].reset_index(drop=True)",
            "execution_count": 23,
            "outputs": []
        },
        {
            "metadata": {},
            "cell_type": "code",
            "source": "df3.head(10)\n",
            "execution_count": 24,
            "outputs": [
                {
                    "output_type": "execute_result",
                    "execution_count": 24,
                    "data": {
                        "text/plain": "      Location                         Borough Postcode\n0   Abbey Wood             Bexley,  Greenwich       SE2\n1        Acton  Ealing, Hammersmith and Fulham       W3\n2        Acton  Ealing, Hammersmith and Fulham       W4\n3        Angel                       Islington      EC1\n4        Angel                       Islington       N1\n5   Church End                           Brent     NW10\n6   Church End                          Barnet       N3\n7      Clapham             Lambeth, Wandsworth      SW4\n8  Clerkenwell                       Islington      EC1\n9    Colindale                          Barnet      NW9",
                        "text/html": "<div>\n<style scoped>\n    .dataframe tbody tr th:only-of-type {\n        vertical-align: middle;\n    }\n\n    .dataframe tbody tr th {\n        vertical-align: top;\n    }\n\n    .dataframe thead th {\n        text-align: right;\n    }\n</style>\n<table border=\"1\" class=\"dataframe\">\n  <thead>\n    <tr style=\"text-align: right;\">\n      <th></th>\n      <th>Location</th>\n      <th>Borough</th>\n      <th>Postcode</th>\n    </tr>\n  </thead>\n  <tbody>\n    <tr>\n      <th>0</th>\n      <td>Abbey Wood</td>\n      <td>Bexley,  Greenwich</td>\n      <td>SE2</td>\n    </tr>\n    <tr>\n      <th>1</th>\n      <td>Acton</td>\n      <td>Ealing, Hammersmith and Fulham</td>\n      <td>W3</td>\n    </tr>\n    <tr>\n      <th>2</th>\n      <td>Acton</td>\n      <td>Ealing, Hammersmith and Fulham</td>\n      <td>W4</td>\n    </tr>\n    <tr>\n      <th>3</th>\n      <td>Angel</td>\n      <td>Islington</td>\n      <td>EC1</td>\n    </tr>\n    <tr>\n      <th>4</th>\n      <td>Angel</td>\n      <td>Islington</td>\n      <td>N1</td>\n    </tr>\n    <tr>\n      <th>5</th>\n      <td>Church End</td>\n      <td>Brent</td>\n      <td>NW10</td>\n    </tr>\n    <tr>\n      <th>6</th>\n      <td>Church End</td>\n      <td>Barnet</td>\n      <td>N3</td>\n    </tr>\n    <tr>\n      <th>7</th>\n      <td>Clapham</td>\n      <td>Lambeth, Wandsworth</td>\n      <td>SW4</td>\n    </tr>\n    <tr>\n      <th>8</th>\n      <td>Clerkenwell</td>\n      <td>Islington</td>\n      <td>EC1</td>\n    </tr>\n    <tr>\n      <th>9</th>\n      <td>Colindale</td>\n      <td>Barnet</td>\n      <td>NW9</td>\n    </tr>\n  </tbody>\n</table>\n</div>"
                    },
                    "metadata": {}
                }
            ]
        },
        {
            "metadata": {},
            "cell_type": "code",
            "source": "df_london = df3\ndf_london.to_csv('LondonLocations.csv', index = False)",
            "execution_count": 25,
            "outputs": []
        },
        {
            "metadata": {},
            "cell_type": "markdown",
            "source": "Assumption 4: Due to its more diverse outlook, proximity to afro-caribbean markets and accessible facilities, only the South East areas of London will be considered for our analysis. The South East areas has postcodes starting with SE.\n\nSo, first, we remove the whitesapaces at the start of some of the postcodes and then drop the other non-SE postcodes."
        },
        {
            "metadata": {},
            "cell_type": "code",
            "source": "df_london.head(5)\n",
            "execution_count": 26,
            "outputs": [
                {
                    "output_type": "execute_result",
                    "execution_count": 26,
                    "data": {
                        "text/plain": "     Location                         Borough Postcode\n0  Abbey Wood             Bexley,  Greenwich       SE2\n1       Acton  Ealing, Hammersmith and Fulham       W3\n2       Acton  Ealing, Hammersmith and Fulham       W4\n3       Angel                       Islington      EC1\n4       Angel                       Islington       N1",
                        "text/html": "<div>\n<style scoped>\n    .dataframe tbody tr th:only-of-type {\n        vertical-align: middle;\n    }\n\n    .dataframe tbody tr th {\n        vertical-align: top;\n    }\n\n    .dataframe thead th {\n        text-align: right;\n    }\n</style>\n<table border=\"1\" class=\"dataframe\">\n  <thead>\n    <tr style=\"text-align: right;\">\n      <th></th>\n      <th>Location</th>\n      <th>Borough</th>\n      <th>Postcode</th>\n    </tr>\n  </thead>\n  <tbody>\n    <tr>\n      <th>0</th>\n      <td>Abbey Wood</td>\n      <td>Bexley,  Greenwich</td>\n      <td>SE2</td>\n    </tr>\n    <tr>\n      <th>1</th>\n      <td>Acton</td>\n      <td>Ealing, Hammersmith and Fulham</td>\n      <td>W3</td>\n    </tr>\n    <tr>\n      <th>2</th>\n      <td>Acton</td>\n      <td>Ealing, Hammersmith and Fulham</td>\n      <td>W4</td>\n    </tr>\n    <tr>\n      <th>3</th>\n      <td>Angel</td>\n      <td>Islington</td>\n      <td>EC1</td>\n    </tr>\n    <tr>\n      <th>4</th>\n      <td>Angel</td>\n      <td>Islington</td>\n      <td>N1</td>\n    </tr>\n  </tbody>\n</table>\n</div>"
                    },
                    "metadata": {}
                }
            ]
        },
        {
            "metadata": {},
            "cell_type": "code",
            "source": "df_london.Postcode = df_london.Postcode.str.strip()\n",
            "execution_count": 27,
            "outputs": []
        },
        {
            "metadata": {},
            "cell_type": "code",
            "source": "df_london.head(5)\n",
            "execution_count": 28,
            "outputs": [
                {
                    "output_type": "execute_result",
                    "execution_count": 28,
                    "data": {
                        "text/plain": "     Location                         Borough Postcode\n0  Abbey Wood             Bexley,  Greenwich       SE2\n1       Acton  Ealing, Hammersmith and Fulham       W3\n2       Acton  Ealing, Hammersmith and Fulham       W4\n3       Angel                       Islington      EC1\n4       Angel                       Islington       N1",
                        "text/html": "<div>\n<style scoped>\n    .dataframe tbody tr th:only-of-type {\n        vertical-align: middle;\n    }\n\n    .dataframe tbody tr th {\n        vertical-align: top;\n    }\n\n    .dataframe thead th {\n        text-align: right;\n    }\n</style>\n<table border=\"1\" class=\"dataframe\">\n  <thead>\n    <tr style=\"text-align: right;\">\n      <th></th>\n      <th>Location</th>\n      <th>Borough</th>\n      <th>Postcode</th>\n    </tr>\n  </thead>\n  <tbody>\n    <tr>\n      <th>0</th>\n      <td>Abbey Wood</td>\n      <td>Bexley,  Greenwich</td>\n      <td>SE2</td>\n    </tr>\n    <tr>\n      <th>1</th>\n      <td>Acton</td>\n      <td>Ealing, Hammersmith and Fulham</td>\n      <td>W3</td>\n    </tr>\n    <tr>\n      <th>2</th>\n      <td>Acton</td>\n      <td>Ealing, Hammersmith and Fulham</td>\n      <td>W4</td>\n    </tr>\n    <tr>\n      <th>3</th>\n      <td>Angel</td>\n      <td>Islington</td>\n      <td>EC1</td>\n    </tr>\n    <tr>\n      <th>4</th>\n      <td>Angel</td>\n      <td>Islington</td>\n      <td>N1</td>\n    </tr>\n  </tbody>\n</table>\n</div>"
                    },
                    "metadata": {}
                }
            ]
        },
        {
            "metadata": {},
            "cell_type": "code",
            "source": "# New dataframe for South East London postcodes - df_se\ndf_se = df_london[df_london['Postcode'].str.startswith(('SE'))].reset_index(drop=True)\n",
            "execution_count": 29,
            "outputs": []
        },
        {
            "metadata": {},
            "cell_type": "code",
            "source": "df_se.head(10)\n",
            "execution_count": 30,
            "outputs": [
                {
                    "output_type": "execute_result",
                    "execution_count": 30,
                    "data": {
                        "text/plain": "         Location              Borough Postcode\n0      Abbey Wood  Bexley,  Greenwich       SE2\n1    Crofton Park             Lewisham      SE4\n2       Crossness               Bexley      SE2\n3  Crystal Palace              Bromley     SE19\n4  Crystal Palace              Bromley     SE20\n5  Crystal Palace              Bromley     SE26\n6    Denmark Hill            Southwark      SE5\n7        Deptford             Lewisham      SE8\n8         Dulwich            Southwark     SE21\n9    East Dulwich            Southwark     SE22",
                        "text/html": "<div>\n<style scoped>\n    .dataframe tbody tr th:only-of-type {\n        vertical-align: middle;\n    }\n\n    .dataframe tbody tr th {\n        vertical-align: top;\n    }\n\n    .dataframe thead th {\n        text-align: right;\n    }\n</style>\n<table border=\"1\" class=\"dataframe\">\n  <thead>\n    <tr style=\"text-align: right;\">\n      <th></th>\n      <th>Location</th>\n      <th>Borough</th>\n      <th>Postcode</th>\n    </tr>\n  </thead>\n  <tbody>\n    <tr>\n      <th>0</th>\n      <td>Abbey Wood</td>\n      <td>Bexley,  Greenwich</td>\n      <td>SE2</td>\n    </tr>\n    <tr>\n      <th>1</th>\n      <td>Crofton Park</td>\n      <td>Lewisham</td>\n      <td>SE4</td>\n    </tr>\n    <tr>\n      <th>2</th>\n      <td>Crossness</td>\n      <td>Bexley</td>\n      <td>SE2</td>\n    </tr>\n    <tr>\n      <th>3</th>\n      <td>Crystal Palace</td>\n      <td>Bromley</td>\n      <td>SE19</td>\n    </tr>\n    <tr>\n      <th>4</th>\n      <td>Crystal Palace</td>\n      <td>Bromley</td>\n      <td>SE20</td>\n    </tr>\n    <tr>\n      <th>5</th>\n      <td>Crystal Palace</td>\n      <td>Bromley</td>\n      <td>SE26</td>\n    </tr>\n    <tr>\n      <th>6</th>\n      <td>Denmark Hill</td>\n      <td>Southwark</td>\n      <td>SE5</td>\n    </tr>\n    <tr>\n      <th>7</th>\n      <td>Deptford</td>\n      <td>Lewisham</td>\n      <td>SE8</td>\n    </tr>\n    <tr>\n      <th>8</th>\n      <td>Dulwich</td>\n      <td>Southwark</td>\n      <td>SE21</td>\n    </tr>\n    <tr>\n      <th>9</th>\n      <td>East Dulwich</td>\n      <td>Southwark</td>\n      <td>SE22</td>\n    </tr>\n  </tbody>\n</table>\n</div>"
                    },
                    "metadata": {}
                }
            ]
        },
        {
            "metadata": {},
            "cell_type": "markdown",
            "source": "Now, our data is ready. df_se is the data we will focus on.\n\nAssumption 5: This assumption will focus on the demography of London where there are predominantly more multicultural groups. According to the proportion of races by London borough as seen in Demography of London, the top 5 Black Africans or Caribbeans are shown below:"
        },
        {
            "metadata": {},
            "cell_type": "code",
            "source": "demograph_link = 'https://en.wikipedia.org/wiki/Demography_of_London'\nheaders = {'User-Agent': 'Mozilla/5.0 (Windows NT 10.0; Win64; x64; rv:64.0) Gecko/20100101 Firefox/64.0'}\ndemograph_page = requests.get(demograph_link, headers = headers)\nsoup1 = BeautifulSoup(demograph_page.content, 'html.parser')\ntable1 = soup1.find('table', {'class':'wikitable sortable'}).tbody\nrows1 = table1.find_all('tr')\ncolumns1 = [i.text.replace('\\n', '')\n           for i in rows1[0].find_all('th')]",
            "execution_count": 31,
            "outputs": []
        },
        {
            "metadata": {},
            "cell_type": "code",
            "source": "columns1\n",
            "execution_count": 32,
            "outputs": [
                {
                    "output_type": "execute_result",
                    "execution_count": 32,
                    "data": {
                        "text/plain": "['Local authority', 'White', 'Mixed', 'Asian', 'Black', 'Other']"
                    },
                    "metadata": {}
                }
            ]
        },
        {
            "metadata": {},
            "cell_type": "code",
            "source": "demo_london = pd.DataFrame(columns = columns1)\n",
            "execution_count": 33,
            "outputs": []
        },
        {
            "metadata": {},
            "cell_type": "code",
            "source": "demo_london.head(5)\n",
            "execution_count": 34,
            "outputs": [
                {
                    "output_type": "execute_result",
                    "execution_count": 34,
                    "data": {
                        "text/plain": "Empty DataFrame\nColumns: [Local authority, White, Mixed, Asian, Black, Other]\nIndex: []",
                        "text/html": "<div>\n<style scoped>\n    .dataframe tbody tr th:only-of-type {\n        vertical-align: middle;\n    }\n\n    .dataframe tbody tr th {\n        vertical-align: top;\n    }\n\n    .dataframe thead th {\n        text-align: right;\n    }\n</style>\n<table border=\"1\" class=\"dataframe\">\n  <thead>\n    <tr style=\"text-align: right;\">\n      <th></th>\n      <th>Local authority</th>\n      <th>White</th>\n      <th>Mixed</th>\n      <th>Asian</th>\n      <th>Black</th>\n      <th>Other</th>\n    </tr>\n  </thead>\n  <tbody>\n  </tbody>\n</table>\n</div>"
                    },
                    "metadata": {}
                }
            ]
        },
        {
            "metadata": {},
            "cell_type": "code",
            "source": "for j in range(1, len(rows1)):\n    tds1 = rows1[j].find_all('td')\n    if len(tds1) == 7:\n        values1 = [tds1[0].text, tds1[1].text, tds1[2].text.replace('\\n', ''.replace('\\xa0','')), tds1[3].text, tds1[4].text.replace('\\n', ''.replace('\\xa0','')), tds1[5].text.replace('\\n', ''.replace('\\xa0',''))]\n    else:\n        values1 = [td1.text.replace('\\n', '').replace('\\xa0','') for td1 in tds1]\n        \n        demo_london = demo_london.append(pd.Series(values1, index = columns1), ignore_index = True)\n\n        demo_london",
            "execution_count": 35,
            "outputs": []
        },
        {
            "metadata": {},
            "cell_type": "code",
            "source": "demo_london['Black'] = demo_london['Black'].astype('float')\n",
            "execution_count": 36,
            "outputs": []
        },
        {
            "metadata": {},
            "cell_type": "code",
            "source": "demo_london_sorted = demo_london.sort_values(by='Black', ascending = False)\n",
            "execution_count": 37,
            "outputs": []
        },
        {
            "metadata": {},
            "cell_type": "code",
            "source": "demo_london_sorted.head(5)\n",
            "execution_count": 38,
            "outputs": [
                {
                    "output_type": "execute_result",
                    "execution_count": 38,
                    "data": {
                        "text/plain": "   Local authority White Mixed Asian  Black Other\n22        Lewisham  53.5   7.4   9.3   27.2   2.6\n27       Southwark  54.3   6.2   9.4   26.9   3.3\n21         Lambeth  57.1   7.6   6.9   25.9   2.4\n11         Hackney  54.7   6.4  10.5   23.1   5.3\n7          Croydon  55.1   6.6  16.4   20.2   1.8",
                        "text/html": "<div>\n<style scoped>\n    .dataframe tbody tr th:only-of-type {\n        vertical-align: middle;\n    }\n\n    .dataframe tbody tr th {\n        vertical-align: top;\n    }\n\n    .dataframe thead th {\n        text-align: right;\n    }\n</style>\n<table border=\"1\" class=\"dataframe\">\n  <thead>\n    <tr style=\"text-align: right;\">\n      <th></th>\n      <th>Local authority</th>\n      <th>White</th>\n      <th>Mixed</th>\n      <th>Asian</th>\n      <th>Black</th>\n      <th>Other</th>\n    </tr>\n  </thead>\n  <tbody>\n    <tr>\n      <th>22</th>\n      <td>Lewisham</td>\n      <td>53.5</td>\n      <td>7.4</td>\n      <td>9.3</td>\n      <td>27.2</td>\n      <td>2.6</td>\n    </tr>\n    <tr>\n      <th>27</th>\n      <td>Southwark</td>\n      <td>54.3</td>\n      <td>6.2</td>\n      <td>9.4</td>\n      <td>26.9</td>\n      <td>3.3</td>\n    </tr>\n    <tr>\n      <th>21</th>\n      <td>Lambeth</td>\n      <td>57.1</td>\n      <td>7.6</td>\n      <td>6.9</td>\n      <td>25.9</td>\n      <td>2.4</td>\n    </tr>\n    <tr>\n      <th>11</th>\n      <td>Hackney</td>\n      <td>54.7</td>\n      <td>6.4</td>\n      <td>10.5</td>\n      <td>23.1</td>\n      <td>5.3</td>\n    </tr>\n    <tr>\n      <th>7</th>\n      <td>Croydon</td>\n      <td>55.1</td>\n      <td>6.6</td>\n      <td>16.4</td>\n      <td>20.2</td>\n      <td>1.8</td>\n    </tr>\n  </tbody>\n</table>\n</div>"
                    },
                    "metadata": {}
                }
            ]
        },
        {
            "metadata": {},
            "cell_type": "markdown",
            "source": "\nAssumption 6: Our next assumption will be based on the top 5 areas will significantly high \"Black\", \"Mixed\" and other races. These leaves us with Lewisham, Southwark, Lambeth, Hackney and Croydon."
        },
        {
            "metadata": {},
            "cell_type": "code",
            "source": "df_se\n",
            "execution_count": 39,
            "outputs": [
                {
                    "output_type": "execute_result",
                    "execution_count": 39,
                    "data": {
                        "text/plain": "                                          Location              Borough  \\\n0                                       Abbey Wood  Bexley,  Greenwich    \n1                                     Crofton Park             Lewisham   \n2                                        Crossness               Bexley   \n3                                   Crystal Palace              Bromley   \n4                                   Crystal Palace              Bromley   \n5                                   Crystal Palace              Bromley   \n6                                     Denmark Hill            Southwark   \n7                                         Deptford             Lewisham   \n8                                          Dulwich            Southwark   \n9                                     East Dulwich            Southwark   \n10                             Elephant and Castle            Southwark   \n11                             Elephant and Castle            Southwark   \n12                             Elephant and Castle            Southwark   \n13                                          Eltham            Greenwich   \n14                                      Falconwood    Bexley, Greenwich   \n15                                        Bankside            Southwark   \n16                                     Forest Hill             Lewisham   \n17                                      Gipsy Hill              Lambeth   \n18                                      Gipsy Hill              Lambeth   \n19                                       Greenwich            Greenwich   \n20                                      Grove Park             Lewisham   \n21                                      Herne Hill              Lambeth   \n22                                    Hither Green             Lewisham   \n23                                       Honor Oak             Lewisham   \n24                                       Horn Park  Greenwich, Lewisham   \n25                                      Kennington   Lambeth, Southwark   \n26                                       Kidbrooke            Greenwich   \n27                                        Ladywell             Lewisham   \n28                                        Ladywell             Lewisham   \n29                                         Lambeth              Lambeth   \n30                                             Lee             Lewisham   \n31                                        Lewisham             Lewisham   \n32                                       Beckenham              Bromley   \n33                                       Longlands               Bexley   \n34                                       Maze Hill            Greenwich   \n35                                     Middle Park            Greenwich   \n36                                      Mottingham              Bromley   \n37                                       New Cross             Lewisham   \n38                                      New Eltham            Greenwich   \n39                                       Newington            Southwark   \n40                                       Newington            Southwark   \n41                                         Nunhead            Southwark   \n42                                            Oval              Lambeth   \n43                                      Bellingham             Lewisham   \n44                                         Peckham            Southwark   \n45                                           Penge              Bromley   \n46                                       Plumstead            Greenwich   \n47                                     Rotherhithe            Southwark   \n48                                        Selhurst              Croydon   \n49                                  Shooter's Hill            Greenwich   \n50                                      Bermondsey            Southwark   \n51                                   South Norwood              Croydon   \n52                                        Southend             Lewisham   \n53                                        St Johns             Lewisham   \n54              Bexleyheath (also Bexley New Town)               Bexley   \n55                                    Surrey Quays            Southwark   \n56  Sydenham (also Lower Sydenham, Upper Sydenham)    Lewisham, Bromley   \n57                                   Sydenham Hill  Lewisham, Southwark   \n58                                   Sydenham Hill  Lewisham, Southwark   \n59                                      Thamesmead    Bexley, Greenwich   \n60                                      Thamesmead    Bexley, Greenwich   \n61                                      Tulse Hill              Lambeth   \n62                                      Tulse Hill              Lambeth   \n63                                   Upper Norwood              Croydon   \n64                                        Walworth            Southwark   \n65                                       Well Hall            Greenwich   \n66                                      Blackheath             Lewisham   \n67                                      West Heath               Bexley   \n68                       Blackheath Royal Standard            Greenwich   \n69                       Blackheath Royal Standard            Greenwich   \n70                                    West Norwood              Lambeth   \n71                                  Westcombe Park            Greenwich   \n72                                        Woolwich            Greenwich   \n73                                         Brixton              Lambeth   \n74                                        Brockley             Lewisham   \n75                                      Camberwell            Southwark   \n76                                         Catford             Lewisham   \n77                                        Charlton            Greenwich   \n78                                         Anerley              Bromley   \n79                                       Chinbrook             Lewisham   \n\n   Postcode  \n0       SE2  \n1       SE4  \n2       SE2  \n3      SE19  \n4      SE20  \n5      SE26  \n6       SE5  \n7       SE8  \n8      SE21  \n9      SE22  \n10      SE1  \n11     SE11  \n12     SE17  \n13      SE9  \n14      SE9  \n15      SE1  \n16     SE23  \n17     SE19  \n18     SE27  \n19     SE10  \n20     SE12  \n21     SE24  \n22     SE13  \n23     SE23  \n24     SE12  \n25     SE11  \n26      SE3  \n27      SE4  \n28     SE13  \n29      SE1  \n30     SE12  \n31     SE13  \n32     SE20  \n33      SE9  \n34     SE10  \n35      SE9  \n36      SE9  \n37     SE14  \n38      SE9  \n39      SE1  \n40     SE17  \n41     SE15  \n42     SE11  \n43      SE6  \n44     SE15  \n45     SE20  \n46     SE18  \n47     SE16  \n48     SE25  \n49     SE18  \n50      SE1  \n51     SE25  \n52      SE6  \n53      SE4  \n54      SE2  \n55     SE16  \n56     SE26  \n57     SE21  \n58     SE26  \n59     SE28  \n60      SE2  \n61     SE24  \n62     SE27  \n63     SE19  \n64     SE17  \n65      SE9  \n66      SE3  \n67      SE2  \n68      SE3  \n69     SE12  \n70     SE27  \n71      SE3  \n72     SE18  \n73      SE5  \n74      SE4  \n75      SE5  \n76      SE6  \n77      SE7  \n78     SE20  \n79     SE12  ",
                        "text/html": "<div>\n<style scoped>\n    .dataframe tbody tr th:only-of-type {\n        vertical-align: middle;\n    }\n\n    .dataframe tbody tr th {\n        vertical-align: top;\n    }\n\n    .dataframe thead th {\n        text-align: right;\n    }\n</style>\n<table border=\"1\" class=\"dataframe\">\n  <thead>\n    <tr style=\"text-align: right;\">\n      <th></th>\n      <th>Location</th>\n      <th>Borough</th>\n      <th>Postcode</th>\n    </tr>\n  </thead>\n  <tbody>\n    <tr>\n      <th>0</th>\n      <td>Abbey Wood</td>\n      <td>Bexley,  Greenwich</td>\n      <td>SE2</td>\n    </tr>\n    <tr>\n      <th>1</th>\n      <td>Crofton Park</td>\n      <td>Lewisham</td>\n      <td>SE4</td>\n    </tr>\n    <tr>\n      <th>2</th>\n      <td>Crossness</td>\n      <td>Bexley</td>\n      <td>SE2</td>\n    </tr>\n    <tr>\n      <th>3</th>\n      <td>Crystal Palace</td>\n      <td>Bromley</td>\n      <td>SE19</td>\n    </tr>\n    <tr>\n      <th>4</th>\n      <td>Crystal Palace</td>\n      <td>Bromley</td>\n      <td>SE20</td>\n    </tr>\n    <tr>\n      <th>5</th>\n      <td>Crystal Palace</td>\n      <td>Bromley</td>\n      <td>SE26</td>\n    </tr>\n    <tr>\n      <th>6</th>\n      <td>Denmark Hill</td>\n      <td>Southwark</td>\n      <td>SE5</td>\n    </tr>\n    <tr>\n      <th>7</th>\n      <td>Deptford</td>\n      <td>Lewisham</td>\n      <td>SE8</td>\n    </tr>\n    <tr>\n      <th>8</th>\n      <td>Dulwich</td>\n      <td>Southwark</td>\n      <td>SE21</td>\n    </tr>\n    <tr>\n      <th>9</th>\n      <td>East Dulwich</td>\n      <td>Southwark</td>\n      <td>SE22</td>\n    </tr>\n    <tr>\n      <th>10</th>\n      <td>Elephant and Castle</td>\n      <td>Southwark</td>\n      <td>SE1</td>\n    </tr>\n    <tr>\n      <th>11</th>\n      <td>Elephant and Castle</td>\n      <td>Southwark</td>\n      <td>SE11</td>\n    </tr>\n    <tr>\n      <th>12</th>\n      <td>Elephant and Castle</td>\n      <td>Southwark</td>\n      <td>SE17</td>\n    </tr>\n    <tr>\n      <th>13</th>\n      <td>Eltham</td>\n      <td>Greenwich</td>\n      <td>SE9</td>\n    </tr>\n    <tr>\n      <th>14</th>\n      <td>Falconwood</td>\n      <td>Bexley, Greenwich</td>\n      <td>SE9</td>\n    </tr>\n    <tr>\n      <th>15</th>\n      <td>Bankside</td>\n      <td>Southwark</td>\n      <td>SE1</td>\n    </tr>\n    <tr>\n      <th>16</th>\n      <td>Forest Hill</td>\n      <td>Lewisham</td>\n      <td>SE23</td>\n    </tr>\n    <tr>\n      <th>17</th>\n      <td>Gipsy Hill</td>\n      <td>Lambeth</td>\n      <td>SE19</td>\n    </tr>\n    <tr>\n      <th>18</th>\n      <td>Gipsy Hill</td>\n      <td>Lambeth</td>\n      <td>SE27</td>\n    </tr>\n    <tr>\n      <th>19</th>\n      <td>Greenwich</td>\n      <td>Greenwich</td>\n      <td>SE10</td>\n    </tr>\n    <tr>\n      <th>20</th>\n      <td>Grove Park</td>\n      <td>Lewisham</td>\n      <td>SE12</td>\n    </tr>\n    <tr>\n      <th>21</th>\n      <td>Herne Hill</td>\n      <td>Lambeth</td>\n      <td>SE24</td>\n    </tr>\n    <tr>\n      <th>22</th>\n      <td>Hither Green</td>\n      <td>Lewisham</td>\n      <td>SE13</td>\n    </tr>\n    <tr>\n      <th>23</th>\n      <td>Honor Oak</td>\n      <td>Lewisham</td>\n      <td>SE23</td>\n    </tr>\n    <tr>\n      <th>24</th>\n      <td>Horn Park</td>\n      <td>Greenwich, Lewisham</td>\n      <td>SE12</td>\n    </tr>\n    <tr>\n      <th>25</th>\n      <td>Kennington</td>\n      <td>Lambeth, Southwark</td>\n      <td>SE11</td>\n    </tr>\n    <tr>\n      <th>26</th>\n      <td>Kidbrooke</td>\n      <td>Greenwich</td>\n      <td>SE3</td>\n    </tr>\n    <tr>\n      <th>27</th>\n      <td>Ladywell</td>\n      <td>Lewisham</td>\n      <td>SE4</td>\n    </tr>\n    <tr>\n      <th>28</th>\n      <td>Ladywell</td>\n      <td>Lewisham</td>\n      <td>SE13</td>\n    </tr>\n    <tr>\n      <th>29</th>\n      <td>Lambeth</td>\n      <td>Lambeth</td>\n      <td>SE1</td>\n    </tr>\n    <tr>\n      <th>30</th>\n      <td>Lee</td>\n      <td>Lewisham</td>\n      <td>SE12</td>\n    </tr>\n    <tr>\n      <th>31</th>\n      <td>Lewisham</td>\n      <td>Lewisham</td>\n      <td>SE13</td>\n    </tr>\n    <tr>\n      <th>32</th>\n      <td>Beckenham</td>\n      <td>Bromley</td>\n      <td>SE20</td>\n    </tr>\n    <tr>\n      <th>33</th>\n      <td>Longlands</td>\n      <td>Bexley</td>\n      <td>SE9</td>\n    </tr>\n    <tr>\n      <th>34</th>\n      <td>Maze Hill</td>\n      <td>Greenwich</td>\n      <td>SE10</td>\n    </tr>\n    <tr>\n      <th>35</th>\n      <td>Middle Park</td>\n      <td>Greenwich</td>\n      <td>SE9</td>\n    </tr>\n    <tr>\n      <th>36</th>\n      <td>Mottingham</td>\n      <td>Bromley</td>\n      <td>SE9</td>\n    </tr>\n    <tr>\n      <th>37</th>\n      <td>New Cross</td>\n      <td>Lewisham</td>\n      <td>SE14</td>\n    </tr>\n    <tr>\n      <th>38</th>\n      <td>New Eltham</td>\n      <td>Greenwich</td>\n      <td>SE9</td>\n    </tr>\n    <tr>\n      <th>39</th>\n      <td>Newington</td>\n      <td>Southwark</td>\n      <td>SE1</td>\n    </tr>\n    <tr>\n      <th>40</th>\n      <td>Newington</td>\n      <td>Southwark</td>\n      <td>SE17</td>\n    </tr>\n    <tr>\n      <th>41</th>\n      <td>Nunhead</td>\n      <td>Southwark</td>\n      <td>SE15</td>\n    </tr>\n    <tr>\n      <th>42</th>\n      <td>Oval</td>\n      <td>Lambeth</td>\n      <td>SE11</td>\n    </tr>\n    <tr>\n      <th>43</th>\n      <td>Bellingham</td>\n      <td>Lewisham</td>\n      <td>SE6</td>\n    </tr>\n    <tr>\n      <th>44</th>\n      <td>Peckham</td>\n      <td>Southwark</td>\n      <td>SE15</td>\n    </tr>\n    <tr>\n      <th>45</th>\n      <td>Penge</td>\n      <td>Bromley</td>\n      <td>SE20</td>\n    </tr>\n    <tr>\n      <th>46</th>\n      <td>Plumstead</td>\n      <td>Greenwich</td>\n      <td>SE18</td>\n    </tr>\n    <tr>\n      <th>47</th>\n      <td>Rotherhithe</td>\n      <td>Southwark</td>\n      <td>SE16</td>\n    </tr>\n    <tr>\n      <th>48</th>\n      <td>Selhurst</td>\n      <td>Croydon</td>\n      <td>SE25</td>\n    </tr>\n    <tr>\n      <th>49</th>\n      <td>Shooter's Hill</td>\n      <td>Greenwich</td>\n      <td>SE18</td>\n    </tr>\n    <tr>\n      <th>50</th>\n      <td>Bermondsey</td>\n      <td>Southwark</td>\n      <td>SE1</td>\n    </tr>\n    <tr>\n      <th>51</th>\n      <td>South Norwood</td>\n      <td>Croydon</td>\n      <td>SE25</td>\n    </tr>\n    <tr>\n      <th>52</th>\n      <td>Southend</td>\n      <td>Lewisham</td>\n      <td>SE6</td>\n    </tr>\n    <tr>\n      <th>53</th>\n      <td>St Johns</td>\n      <td>Lewisham</td>\n      <td>SE4</td>\n    </tr>\n    <tr>\n      <th>54</th>\n      <td>Bexleyheath (also Bexley New Town)</td>\n      <td>Bexley</td>\n      <td>SE2</td>\n    </tr>\n    <tr>\n      <th>55</th>\n      <td>Surrey Quays</td>\n      <td>Southwark</td>\n      <td>SE16</td>\n    </tr>\n    <tr>\n      <th>56</th>\n      <td>Sydenham (also Lower Sydenham, Upper Sydenham)</td>\n      <td>Lewisham, Bromley</td>\n      <td>SE26</td>\n    </tr>\n    <tr>\n      <th>57</th>\n      <td>Sydenham Hill</td>\n      <td>Lewisham, Southwark</td>\n      <td>SE21</td>\n    </tr>\n    <tr>\n      <th>58</th>\n      <td>Sydenham Hill</td>\n      <td>Lewisham, Southwark</td>\n      <td>SE26</td>\n    </tr>\n    <tr>\n      <th>59</th>\n      <td>Thamesmead</td>\n      <td>Bexley, Greenwich</td>\n      <td>SE28</td>\n    </tr>\n    <tr>\n      <th>60</th>\n      <td>Thamesmead</td>\n      <td>Bexley, Greenwich</td>\n      <td>SE2</td>\n    </tr>\n    <tr>\n      <th>61</th>\n      <td>Tulse Hill</td>\n      <td>Lambeth</td>\n      <td>SE24</td>\n    </tr>\n    <tr>\n      <th>62</th>\n      <td>Tulse Hill</td>\n      <td>Lambeth</td>\n      <td>SE27</td>\n    </tr>\n    <tr>\n      <th>63</th>\n      <td>Upper Norwood</td>\n      <td>Croydon</td>\n      <td>SE19</td>\n    </tr>\n    <tr>\n      <th>64</th>\n      <td>Walworth</td>\n      <td>Southwark</td>\n      <td>SE17</td>\n    </tr>\n    <tr>\n      <th>65</th>\n      <td>Well Hall</td>\n      <td>Greenwich</td>\n      <td>SE9</td>\n    </tr>\n    <tr>\n      <th>66</th>\n      <td>Blackheath</td>\n      <td>Lewisham</td>\n      <td>SE3</td>\n    </tr>\n    <tr>\n      <th>67</th>\n      <td>West Heath</td>\n      <td>Bexley</td>\n      <td>SE2</td>\n    </tr>\n    <tr>\n      <th>68</th>\n      <td>Blackheath Royal Standard</td>\n      <td>Greenwich</td>\n      <td>SE3</td>\n    </tr>\n    <tr>\n      <th>69</th>\n      <td>Blackheath Royal Standard</td>\n      <td>Greenwich</td>\n      <td>SE12</td>\n    </tr>\n    <tr>\n      <th>70</th>\n      <td>West Norwood</td>\n      <td>Lambeth</td>\n      <td>SE27</td>\n    </tr>\n    <tr>\n      <th>71</th>\n      <td>Westcombe Park</td>\n      <td>Greenwich</td>\n      <td>SE3</td>\n    </tr>\n    <tr>\n      <th>72</th>\n      <td>Woolwich</td>\n      <td>Greenwich</td>\n      <td>SE18</td>\n    </tr>\n    <tr>\n      <th>73</th>\n      <td>Brixton</td>\n      <td>Lambeth</td>\n      <td>SE5</td>\n    </tr>\n    <tr>\n      <th>74</th>\n      <td>Brockley</td>\n      <td>Lewisham</td>\n      <td>SE4</td>\n    </tr>\n    <tr>\n      <th>75</th>\n      <td>Camberwell</td>\n      <td>Southwark</td>\n      <td>SE5</td>\n    </tr>\n    <tr>\n      <th>76</th>\n      <td>Catford</td>\n      <td>Lewisham</td>\n      <td>SE6</td>\n    </tr>\n    <tr>\n      <th>77</th>\n      <td>Charlton</td>\n      <td>Greenwich</td>\n      <td>SE7</td>\n    </tr>\n    <tr>\n      <th>78</th>\n      <td>Anerley</td>\n      <td>Bromley</td>\n      <td>SE20</td>\n    </tr>\n    <tr>\n      <th>79</th>\n      <td>Chinbrook</td>\n      <td>Lewisham</td>\n      <td>SE12</td>\n    </tr>\n  </tbody>\n</table>\n</div>"
                    },
                    "metadata": {}
                }
            ]
        },
        {
            "metadata": {},
            "cell_type": "code",
            "source": "df_se_top = df_se[df_se['Borough'].isin(['Lewisham', 'Southwark', 'Lambeth', 'Hackney', 'Croydon'])].reset_index(drop=True)\n",
            "execution_count": 40,
            "outputs": []
        },
        {
            "metadata": {},
            "cell_type": "markdown",
            "source": "Just to be sure with syntax, Hackney is in North London, so it will not be returned. The resulting dataframe is df_se_top."
        },
        {
            "metadata": {},
            "cell_type": "code",
            "source": "df_se_top.head(5)\n",
            "execution_count": 41,
            "outputs": [
                {
                    "output_type": "execute_result",
                    "execution_count": 41,
                    "data": {
                        "text/plain": "       Location    Borough Postcode\n0  Crofton Park   Lewisham      SE4\n1  Denmark Hill  Southwark      SE5\n2      Deptford   Lewisham      SE8\n3       Dulwich  Southwark     SE21\n4  East Dulwich  Southwark     SE22",
                        "text/html": "<div>\n<style scoped>\n    .dataframe tbody tr th:only-of-type {\n        vertical-align: middle;\n    }\n\n    .dataframe tbody tr th {\n        vertical-align: top;\n    }\n\n    .dataframe thead th {\n        text-align: right;\n    }\n</style>\n<table border=\"1\" class=\"dataframe\">\n  <thead>\n    <tr style=\"text-align: right;\">\n      <th></th>\n      <th>Location</th>\n      <th>Borough</th>\n      <th>Postcode</th>\n    </tr>\n  </thead>\n  <tbody>\n    <tr>\n      <th>0</th>\n      <td>Crofton Park</td>\n      <td>Lewisham</td>\n      <td>SE4</td>\n    </tr>\n    <tr>\n      <th>1</th>\n      <td>Denmark Hill</td>\n      <td>Southwark</td>\n      <td>SE5</td>\n    </tr>\n    <tr>\n      <th>2</th>\n      <td>Deptford</td>\n      <td>Lewisham</td>\n      <td>SE8</td>\n    </tr>\n    <tr>\n      <th>3</th>\n      <td>Dulwich</td>\n      <td>Southwark</td>\n      <td>SE21</td>\n    </tr>\n    <tr>\n      <th>4</th>\n      <td>East Dulwich</td>\n      <td>Southwark</td>\n      <td>SE22</td>\n    </tr>\n  </tbody>\n</table>\n</div>"
                    },
                    "metadata": {}
                }
            ]
        },
        {
            "metadata": {},
            "cell_type": "code",
            "source": "df_se_top.shape\n",
            "execution_count": 42,
            "outputs": [
                {
                    "output_type": "execute_result",
                    "execution_count": 42,
                    "data": {
                        "text/plain": "(46, 3)"
                    },
                    "metadata": {}
                }
            ]
        },
        {
            "metadata": {},
            "cell_type": "code",
            "source": "df_se.shape\n",
            "execution_count": 43,
            "outputs": [
                {
                    "output_type": "execute_result",
                    "execution_count": 43,
                    "data": {
                        "text/plain": "(80, 3)"
                    },
                    "metadata": {}
                }
            ]
        },
        {
            "metadata": {},
            "cell_type": "markdown",
            "source": "So we have our working dataframe to be df_se_top to work with."
        },
        {
            "metadata": {},
            "cell_type": "markdown",
            "source": "### 2.1.2 Dataset 2:"
        },
        {
            "metadata": {},
            "cell_type": "markdown",
            "source": "\nIn obtaining the location data of the locations, the Geocoder package is used with the arcgis_geocoder to obtain the latitude and longitude of the needed locations.\n\nThese will help to create a new dataframe that will be used subsequently for the South East London areas."
        },
        {
            "metadata": {},
            "cell_type": "code",
            "source": "# Geocoder starts here\n# Defining a function to use --> get_latlng()'''\ndef get_latlng(arcgis_geocoder):\n    \n    # Initialize the Location (lat. and long.) to \"None\"\n    lat_lng_coords = None\n    \n    # While loop helps to create a continous run until all the location coordinates are geocoded\n    while(lat_lng_coords is None):\n        g = geocoder.arcgis('{}, London, United Kingdom'.format(arcgis_geocoder))\n        lat_lng_coords = g.latlng\n    return lat_lng_coords\n# Geocoder ends here\n",
            "execution_count": 44,
            "outputs": []
        },
        {
            "metadata": {},
            "cell_type": "markdown",
            "source": "Testing the function above for a sample postcode - SE2."
        },
        {
            "metadata": {},
            "cell_type": "code",
            "source": "sample = get_latlng('SE2')\nsample",
            "execution_count": 45,
            "outputs": [
                {
                    "output_type": "execute_result",
                    "execution_count": 45,
                    "data": {
                        "text/plain": "[51.492450000000076, 0.12127000000003818]"
                    },
                    "metadata": {}
                }
            ]
        },
        {
            "metadata": {},
            "cell_type": "code",
            "source": "gg = geocoder.geocodefarm(sample, method = 'reverse')\ngg",
            "execution_count": 48,
            "outputs": [
                {
                    "output_type": "stream",
                    "text": "Status code Unknown from https://www.geocode.farm/v3/json/reverse/: ERROR - HTTPSConnectionPool(host='www.geocode.farm', port=443): Read timed out. (read timeout=5.0)\n",
                    "name": "stderr"
                },
                {
                    "output_type": "execute_result",
                    "execution_count": 48,
                    "data": {
                        "text/plain": "<[ERROR - HTTPSConnectionPool(host='www.geocode.farm', port=443): Read timed out. (read timeout=5.0)] Geocodefarm - Reverse [empty]>"
                    },
                    "metadata": {}
                }
            ]
        },
        {
            "metadata": {},
            "cell_type": "code",
            "source": "start = time.time()\n\npostal_codes = df_se_top['Postcode']    \ncoordinates = [get_latlng(postal_code) for postal_code in postal_codes.tolist()]\n\nend = time.time()\nprint(\"Time of execution: \", end - start, \"seconds\")",
            "execution_count": 49,
            "outputs": [
                {
                    "output_type": "stream",
                    "text": "Time of execution:  27.786312580108643 seconds\n",
                    "name": "stdout"
                }
            ]
        },
        {
            "metadata": {},
            "cell_type": "markdown",
            "source": "Then we proceed to store the location data - latitude and longitude as follows. The obtained coordinates are then joined to df_se_topto create new data frame."
        },
        {
            "metadata": {},
            "cell_type": "code",
            "source": "df_se_loc = df_se_top\n\n# The obtained coordinates (latitude and longitude) are joined with the dataframe as shown\ndf_se_coordinates = pd.DataFrame(coordinates, columns = ['Latitude', 'Longitude'])\ndf_se_loc['Latitude'] = df_se_coordinates['Latitude']\ndf_se_loc['Longitude'] = df_se_coordinates['Longitude']",
            "execution_count": 50,
            "outputs": []
        },
        {
            "metadata": {},
            "cell_type": "code",
            "source": "df_se_loc.head(5)\n",
            "execution_count": 51,
            "outputs": [
                {
                    "output_type": "execute_result",
                    "execution_count": 51,
                    "data": {
                        "text/plain": "       Location    Borough Postcode  Latitude  Longitude\n0  Crofton Park   Lewisham      SE4  51.46268   -0.03558\n1  Denmark Hill  Southwark      SE5  51.47480   -0.09313\n2      Deptford   Lewisham      SE8  51.48114   -0.02467\n3       Dulwich  Southwark     SE21  51.44100   -0.08897\n4  East Dulwich  Southwark     SE22  51.45256   -0.07076",
                        "text/html": "<div>\n<style scoped>\n    .dataframe tbody tr th:only-of-type {\n        vertical-align: middle;\n    }\n\n    .dataframe tbody tr th {\n        vertical-align: top;\n    }\n\n    .dataframe thead th {\n        text-align: right;\n    }\n</style>\n<table border=\"1\" class=\"dataframe\">\n  <thead>\n    <tr style=\"text-align: right;\">\n      <th></th>\n      <th>Location</th>\n      <th>Borough</th>\n      <th>Postcode</th>\n      <th>Latitude</th>\n      <th>Longitude</th>\n    </tr>\n  </thead>\n  <tbody>\n    <tr>\n      <th>0</th>\n      <td>Crofton Park</td>\n      <td>Lewisham</td>\n      <td>SE4</td>\n      <td>51.46268</td>\n      <td>-0.03558</td>\n    </tr>\n    <tr>\n      <th>1</th>\n      <td>Denmark Hill</td>\n      <td>Southwark</td>\n      <td>SE5</td>\n      <td>51.47480</td>\n      <td>-0.09313</td>\n    </tr>\n    <tr>\n      <th>2</th>\n      <td>Deptford</td>\n      <td>Lewisham</td>\n      <td>SE8</td>\n      <td>51.48114</td>\n      <td>-0.02467</td>\n    </tr>\n    <tr>\n      <th>3</th>\n      <td>Dulwich</td>\n      <td>Southwark</td>\n      <td>SE21</td>\n      <td>51.44100</td>\n      <td>-0.08897</td>\n    </tr>\n    <tr>\n      <th>4</th>\n      <td>East Dulwich</td>\n      <td>Southwark</td>\n      <td>SE22</td>\n      <td>51.45256</td>\n      <td>-0.07076</td>\n    </tr>\n  </tbody>\n</table>\n</div>"
                    },
                    "metadata": {}
                }
            ]
        },
        {
            "metadata": {},
            "cell_type": "code",
            "source": "df_se_loc.to_csv('SELondonLocationsCoordinates.csv', index = False)\n",
            "execution_count": 52,
            "outputs": []
        },
        {
            "metadata": {},
            "cell_type": "code",
            "source": "df_se_loc.shape\n",
            "execution_count": 53,
            "outputs": [
                {
                    "output_type": "execute_result",
                    "execution_count": 53,
                    "data": {
                        "text/plain": "(46, 5)"
                    },
                    "metadata": {}
                }
            ]
        },
        {
            "metadata": {},
            "cell_type": "markdown",
            "source": "## 3. Methodology"
        },
        {
            "metadata": {},
            "cell_type": "markdown",
            "source": "Single Neighbourhood\nAn initial exploration of a single Neighbourhood within the London area was done to examine the Foursquare workability. The Lewisham Borough postcode SE13 and Location - Lewisham is used for this."
        },
        {
            "metadata": {},
            "cell_type": "code",
            "source": "# Resets the current index to a new\nse_df = df_se_loc.reset_index().drop('index', axis = 1)",
            "execution_count": 55,
            "outputs": []
        },
        {
            "metadata": {},
            "cell_type": "code",
            "source": "se_df.shape\n",
            "execution_count": 56,
            "outputs": [
                {
                    "output_type": "execute_result",
                    "execution_count": 56,
                    "data": {
                        "text/plain": "(46, 5)"
                    },
                    "metadata": {}
                }
            ]
        },
        {
            "metadata": {},
            "cell_type": "code",
            "source": "se_df\n",
            "execution_count": 57,
            "outputs": [
                {
                    "output_type": "execute_result",
                    "execution_count": 57,
                    "data": {
                        "text/plain": "               Location    Borough Postcode  Latitude  Longitude\n0          Crofton Park   Lewisham      SE4  51.46268   -0.03558\n1          Denmark Hill  Southwark      SE5  51.47480   -0.09313\n2              Deptford   Lewisham      SE8  51.48114   -0.02467\n3               Dulwich  Southwark     SE21  51.44100   -0.08897\n4          East Dulwich  Southwark     SE22  51.45256   -0.07076\n5   Elephant and Castle  Southwark      SE1  51.49996   -0.09568\n6   Elephant and Castle  Southwark     SE11  51.49084   -0.11108\n7   Elephant and Castle  Southwark     SE17  51.48764   -0.09542\n8              Bankside  Southwark      SE1  51.49996   -0.09568\n9           Forest Hill   Lewisham     SE23  51.44122   -0.04764\n10           Gipsy Hill    Lambeth     SE19  51.41990   -0.08808\n11           Gipsy Hill    Lambeth     SE27  51.43407   -0.10375\n12           Grove Park   Lewisham     SE12  51.44759    0.01350\n13           Herne Hill    Lambeth     SE24  51.45529   -0.09928\n14         Hither Green   Lewisham     SE13  51.46196   -0.00754\n15            Honor Oak   Lewisham     SE23  51.44122   -0.04764\n16             Ladywell   Lewisham      SE4  51.46268   -0.03558\n17             Ladywell   Lewisham     SE13  51.46196   -0.00754\n18              Lambeth    Lambeth      SE1  51.49996   -0.09568\n19                  Lee   Lewisham     SE12  51.44759    0.01350\n20             Lewisham   Lewisham     SE13  51.46196   -0.00754\n21            New Cross   Lewisham     SE14  51.47489   -0.04038\n22            Newington  Southwark      SE1  51.49996   -0.09568\n23            Newington  Southwark     SE17  51.48764   -0.09542\n24              Nunhead  Southwark     SE15  51.47218   -0.06779\n25                 Oval    Lambeth     SE11  51.49084   -0.11108\n26           Bellingham   Lewisham      SE6  51.43722   -0.01868\n27              Peckham  Southwark     SE15  51.47218   -0.06779\n28          Rotherhithe  Southwark     SE16  51.49574   -0.05157\n29             Selhurst    Croydon     SE25  51.39925   -0.07414\n30           Bermondsey  Southwark      SE1  51.49996   -0.09568\n31        South Norwood    Croydon     SE25  51.39925   -0.07414\n32             Southend   Lewisham      SE6  51.43722   -0.01868\n33             St Johns   Lewisham      SE4  51.46268   -0.03558\n34         Surrey Quays  Southwark     SE16  51.49574   -0.05157\n35           Tulse Hill    Lambeth     SE24  51.45529   -0.09928\n36           Tulse Hill    Lambeth     SE27  51.43407   -0.10375\n37        Upper Norwood    Croydon     SE19  51.41990   -0.08808\n38             Walworth  Southwark     SE17  51.48764   -0.09542\n39           Blackheath   Lewisham      SE3  51.47138    0.02338\n40         West Norwood    Lambeth     SE27  51.43407   -0.10375\n41              Brixton    Lambeth      SE5  51.47480   -0.09313\n42             Brockley   Lewisham      SE4  51.46268   -0.03558\n43           Camberwell  Southwark      SE5  51.47480   -0.09313\n44              Catford   Lewisham      SE6  51.43722   -0.01868\n45            Chinbrook   Lewisham     SE12  51.44759    0.01350",
                        "text/html": "<div>\n<style scoped>\n    .dataframe tbody tr th:only-of-type {\n        vertical-align: middle;\n    }\n\n    .dataframe tbody tr th {\n        vertical-align: top;\n    }\n\n    .dataframe thead th {\n        text-align: right;\n    }\n</style>\n<table border=\"1\" class=\"dataframe\">\n  <thead>\n    <tr style=\"text-align: right;\">\n      <th></th>\n      <th>Location</th>\n      <th>Borough</th>\n      <th>Postcode</th>\n      <th>Latitude</th>\n      <th>Longitude</th>\n    </tr>\n  </thead>\n  <tbody>\n    <tr>\n      <th>0</th>\n      <td>Crofton Park</td>\n      <td>Lewisham</td>\n      <td>SE4</td>\n      <td>51.46268</td>\n      <td>-0.03558</td>\n    </tr>\n    <tr>\n      <th>1</th>\n      <td>Denmark Hill</td>\n      <td>Southwark</td>\n      <td>SE5</td>\n      <td>51.47480</td>\n      <td>-0.09313</td>\n    </tr>\n    <tr>\n      <th>2</th>\n      <td>Deptford</td>\n      <td>Lewisham</td>\n      <td>SE8</td>\n      <td>51.48114</td>\n      <td>-0.02467</td>\n    </tr>\n    <tr>\n      <th>3</th>\n      <td>Dulwich</td>\n      <td>Southwark</td>\n      <td>SE21</td>\n      <td>51.44100</td>\n      <td>-0.08897</td>\n    </tr>\n    <tr>\n      <th>4</th>\n      <td>East Dulwich</td>\n      <td>Southwark</td>\n      <td>SE22</td>\n      <td>51.45256</td>\n      <td>-0.07076</td>\n    </tr>\n    <tr>\n      <th>5</th>\n      <td>Elephant and Castle</td>\n      <td>Southwark</td>\n      <td>SE1</td>\n      <td>51.49996</td>\n      <td>-0.09568</td>\n    </tr>\n    <tr>\n      <th>6</th>\n      <td>Elephant and Castle</td>\n      <td>Southwark</td>\n      <td>SE11</td>\n      <td>51.49084</td>\n      <td>-0.11108</td>\n    </tr>\n    <tr>\n      <th>7</th>\n      <td>Elephant and Castle</td>\n      <td>Southwark</td>\n      <td>SE17</td>\n      <td>51.48764</td>\n      <td>-0.09542</td>\n    </tr>\n    <tr>\n      <th>8</th>\n      <td>Bankside</td>\n      <td>Southwark</td>\n      <td>SE1</td>\n      <td>51.49996</td>\n      <td>-0.09568</td>\n    </tr>\n    <tr>\n      <th>9</th>\n      <td>Forest Hill</td>\n      <td>Lewisham</td>\n      <td>SE23</td>\n      <td>51.44122</td>\n      <td>-0.04764</td>\n    </tr>\n    <tr>\n      <th>10</th>\n      <td>Gipsy Hill</td>\n      <td>Lambeth</td>\n      <td>SE19</td>\n      <td>51.41990</td>\n      <td>-0.08808</td>\n    </tr>\n    <tr>\n      <th>11</th>\n      <td>Gipsy Hill</td>\n      <td>Lambeth</td>\n      <td>SE27</td>\n      <td>51.43407</td>\n      <td>-0.10375</td>\n    </tr>\n    <tr>\n      <th>12</th>\n      <td>Grove Park</td>\n      <td>Lewisham</td>\n      <td>SE12</td>\n      <td>51.44759</td>\n      <td>0.01350</td>\n    </tr>\n    <tr>\n      <th>13</th>\n      <td>Herne Hill</td>\n      <td>Lambeth</td>\n      <td>SE24</td>\n      <td>51.45529</td>\n      <td>-0.09928</td>\n    </tr>\n    <tr>\n      <th>14</th>\n      <td>Hither Green</td>\n      <td>Lewisham</td>\n      <td>SE13</td>\n      <td>51.46196</td>\n      <td>-0.00754</td>\n    </tr>\n    <tr>\n      <th>15</th>\n      <td>Honor Oak</td>\n      <td>Lewisham</td>\n      <td>SE23</td>\n      <td>51.44122</td>\n      <td>-0.04764</td>\n    </tr>\n    <tr>\n      <th>16</th>\n      <td>Ladywell</td>\n      <td>Lewisham</td>\n      <td>SE4</td>\n      <td>51.46268</td>\n      <td>-0.03558</td>\n    </tr>\n    <tr>\n      <th>17</th>\n      <td>Ladywell</td>\n      <td>Lewisham</td>\n      <td>SE13</td>\n      <td>51.46196</td>\n      <td>-0.00754</td>\n    </tr>\n    <tr>\n      <th>18</th>\n      <td>Lambeth</td>\n      <td>Lambeth</td>\n      <td>SE1</td>\n      <td>51.49996</td>\n      <td>-0.09568</td>\n    </tr>\n    <tr>\n      <th>19</th>\n      <td>Lee</td>\n      <td>Lewisham</td>\n      <td>SE12</td>\n      <td>51.44759</td>\n      <td>0.01350</td>\n    </tr>\n    <tr>\n      <th>20</th>\n      <td>Lewisham</td>\n      <td>Lewisham</td>\n      <td>SE13</td>\n      <td>51.46196</td>\n      <td>-0.00754</td>\n    </tr>\n    <tr>\n      <th>21</th>\n      <td>New Cross</td>\n      <td>Lewisham</td>\n      <td>SE14</td>\n      <td>51.47489</td>\n      <td>-0.04038</td>\n    </tr>\n    <tr>\n      <th>22</th>\n      <td>Newington</td>\n      <td>Southwark</td>\n      <td>SE1</td>\n      <td>51.49996</td>\n      <td>-0.09568</td>\n    </tr>\n    <tr>\n      <th>23</th>\n      <td>Newington</td>\n      <td>Southwark</td>\n      <td>SE17</td>\n      <td>51.48764</td>\n      <td>-0.09542</td>\n    </tr>\n    <tr>\n      <th>24</th>\n      <td>Nunhead</td>\n      <td>Southwark</td>\n      <td>SE15</td>\n      <td>51.47218</td>\n      <td>-0.06779</td>\n    </tr>\n    <tr>\n      <th>25</th>\n      <td>Oval</td>\n      <td>Lambeth</td>\n      <td>SE11</td>\n      <td>51.49084</td>\n      <td>-0.11108</td>\n    </tr>\n    <tr>\n      <th>26</th>\n      <td>Bellingham</td>\n      <td>Lewisham</td>\n      <td>SE6</td>\n      <td>51.43722</td>\n      <td>-0.01868</td>\n    </tr>\n    <tr>\n      <th>27</th>\n      <td>Peckham</td>\n      <td>Southwark</td>\n      <td>SE15</td>\n      <td>51.47218</td>\n      <td>-0.06779</td>\n    </tr>\n    <tr>\n      <th>28</th>\n      <td>Rotherhithe</td>\n      <td>Southwark</td>\n      <td>SE16</td>\n      <td>51.49574</td>\n      <td>-0.05157</td>\n    </tr>\n    <tr>\n      <th>29</th>\n      <td>Selhurst</td>\n      <td>Croydon</td>\n      <td>SE25</td>\n      <td>51.39925</td>\n      <td>-0.07414</td>\n    </tr>\n    <tr>\n      <th>30</th>\n      <td>Bermondsey</td>\n      <td>Southwark</td>\n      <td>SE1</td>\n      <td>51.49996</td>\n      <td>-0.09568</td>\n    </tr>\n    <tr>\n      <th>31</th>\n      <td>South Norwood</td>\n      <td>Croydon</td>\n      <td>SE25</td>\n      <td>51.39925</td>\n      <td>-0.07414</td>\n    </tr>\n    <tr>\n      <th>32</th>\n      <td>Southend</td>\n      <td>Lewisham</td>\n      <td>SE6</td>\n      <td>51.43722</td>\n      <td>-0.01868</td>\n    </tr>\n    <tr>\n      <th>33</th>\n      <td>St Johns</td>\n      <td>Lewisham</td>\n      <td>SE4</td>\n      <td>51.46268</td>\n      <td>-0.03558</td>\n    </tr>\n    <tr>\n      <th>34</th>\n      <td>Surrey Quays</td>\n      <td>Southwark</td>\n      <td>SE16</td>\n      <td>51.49574</td>\n      <td>-0.05157</td>\n    </tr>\n    <tr>\n      <th>35</th>\n      <td>Tulse Hill</td>\n      <td>Lambeth</td>\n      <td>SE24</td>\n      <td>51.45529</td>\n      <td>-0.09928</td>\n    </tr>\n    <tr>\n      <th>36</th>\n      <td>Tulse Hill</td>\n      <td>Lambeth</td>\n      <td>SE27</td>\n      <td>51.43407</td>\n      <td>-0.10375</td>\n    </tr>\n    <tr>\n      <th>37</th>\n      <td>Upper Norwood</td>\n      <td>Croydon</td>\n      <td>SE19</td>\n      <td>51.41990</td>\n      <td>-0.08808</td>\n    </tr>\n    <tr>\n      <th>38</th>\n      <td>Walworth</td>\n      <td>Southwark</td>\n      <td>SE17</td>\n      <td>51.48764</td>\n      <td>-0.09542</td>\n    </tr>\n    <tr>\n      <th>39</th>\n      <td>Blackheath</td>\n      <td>Lewisham</td>\n      <td>SE3</td>\n      <td>51.47138</td>\n      <td>0.02338</td>\n    </tr>\n    <tr>\n      <th>40</th>\n      <td>West Norwood</td>\n      <td>Lambeth</td>\n      <td>SE27</td>\n      <td>51.43407</td>\n      <td>-0.10375</td>\n    </tr>\n    <tr>\n      <th>41</th>\n      <td>Brixton</td>\n      <td>Lambeth</td>\n      <td>SE5</td>\n      <td>51.47480</td>\n      <td>-0.09313</td>\n    </tr>\n    <tr>\n      <th>42</th>\n      <td>Brockley</td>\n      <td>Lewisham</td>\n      <td>SE4</td>\n      <td>51.46268</td>\n      <td>-0.03558</td>\n    </tr>\n    <tr>\n      <th>43</th>\n      <td>Camberwell</td>\n      <td>Southwark</td>\n      <td>SE5</td>\n      <td>51.47480</td>\n      <td>-0.09313</td>\n    </tr>\n    <tr>\n      <th>44</th>\n      <td>Catford</td>\n      <td>Lewisham</td>\n      <td>SE6</td>\n      <td>51.43722</td>\n      <td>-0.01868</td>\n    </tr>\n    <tr>\n      <th>45</th>\n      <td>Chinbrook</td>\n      <td>Lewisham</td>\n      <td>SE12</td>\n      <td>51.44759</td>\n      <td>0.01350</td>\n    </tr>\n  </tbody>\n</table>\n</div>"
                    },
                    "metadata": {}
                }
            ]
        },
        {
            "metadata": {},
            "cell_type": "code",
            "source": "se_df.loc[se_df['Location'] == 'Lewisham']\n",
            "execution_count": 58,
            "outputs": [
                {
                    "output_type": "execute_result",
                    "execution_count": 58,
                    "data": {
                        "text/plain": "    Location   Borough Postcode  Latitude  Longitude\n20  Lewisham  Lewisham     SE13  51.46196   -0.00754",
                        "text/html": "<div>\n<style scoped>\n    .dataframe tbody tr th:only-of-type {\n        vertical-align: middle;\n    }\n\n    .dataframe tbody tr th {\n        vertical-align: top;\n    }\n\n    .dataframe thead th {\n        text-align: right;\n    }\n</style>\n<table border=\"1\" class=\"dataframe\">\n  <thead>\n    <tr style=\"text-align: right;\">\n      <th></th>\n      <th>Location</th>\n      <th>Borough</th>\n      <th>Postcode</th>\n      <th>Latitude</th>\n      <th>Longitude</th>\n    </tr>\n  </thead>\n  <tbody>\n    <tr>\n      <th>20</th>\n      <td>Lewisham</td>\n      <td>Lewisham</td>\n      <td>SE13</td>\n      <td>51.46196</td>\n      <td>-0.00754</td>\n    </tr>\n  </tbody>\n</table>\n</div>"
                    },
                    "metadata": {}
                }
            ]
        },
        {
            "metadata": {},
            "cell_type": "markdown",
            "source": "Now, let's use the Lewisham with the index location 20."
        },
        {
            "metadata": {},
            "cell_type": "code",
            "source": "se_df.loc[20, 'Location']\n",
            "execution_count": 59,
            "outputs": [
                {
                    "output_type": "execute_result",
                    "execution_count": 59,
                    "data": {
                        "text/plain": "'Lewisham'"
                    },
                    "metadata": {}
                }
            ]
        },
        {
            "metadata": {},
            "cell_type": "code",
            "source": "lewisham_lat = se_df.loc[20, 'Latitude']\nlewisham_long = se_df.loc[20, 'Longitude']\nlewisham_loc = se_df.loc[20, 'Location']\nlewisham_postcode = se_df.loc[20, 'Postcode']\n\nprint('The latitude and longitude values of {} with postcode {}, are {}, {}.'.format(lewisham_loc,\n                                                                                         lewisham_postcode,\n                                                                                         lewisham_lat,\n                                                                                         lewisham_long))",
            "execution_count": 60,
            "outputs": [
                {
                    "output_type": "stream",
                    "text": "The latitude and longitude values of Lewisham with postcode SE13, are 51.46196000000003, -0.007539999999949032.\n",
                    "name": "stdout"
                }
            ]
        },
        {
            "metadata": {},
            "cell_type": "markdown",
            "source": "## 4. Result"
        },
        {
            "metadata": {},
            "cell_type": "markdown",
            "source": "The following are the highlights of the 5 clusters above:\n\n1.Pubs, Cafe, Coffee Shops are popular in the South East London.\n2.As for restaurants, the Italian Restaurants are very popular in the South East London area. Especially in Southwark and Lambeth areas.\n3.With the Lewisham area being the most condensed area of Africans in the South East Area, it is surprising to see how in the top 10 venues, you can  barely see restaurants in the top 5 venues.\n5.Although, the Clusters have variations, a very visible presence is the predominance of pubs.\n\n"
        },
        {
            "metadata": {},
            "cell_type": "markdown",
            "source": "## 5. Discussion and Conclusion"
        },
        {
            "metadata": {},
            "cell_type": "markdown",
            "source": "It is very important to note that Clusters 2 and 3 are the most viable clusters to create a brand African Restaurant. Their proximity to other amenities and accessibility to station are paramount. These 2 clusters do not have top restaurants that could rival their standards if they are created. And the proximity to resources needed is paramount as Lewisham and Lambeth are not far out from Peckham (under Southwark).\n\nIn conclusion, this project would have had better results if there were more data in terms of crime data within the area, traffic access and allowance of more venues exploration with the Foursquare (limited venues for free calls).\n\nAlso, getting the ratings and feedbacks of the current restaurants within the clusters would have helped in providing more insight into the best location.\n\n"
        },
        {
            "metadata": {},
            "cell_type": "code",
            "source": "",
            "execution_count": null,
            "outputs": []
        }
    ],
    "metadata": {
        "kernelspec": {
            "name": "python3",
            "display_name": "Python 3.6",
            "language": "python"
        },
        "language_info": {
            "name": "python",
            "version": "3.6.9",
            "mimetype": "text/x-python",
            "codemirror_mode": {
                "name": "ipython",
                "version": 3
            },
            "pygments_lexer": "ipython3",
            "nbconvert_exporter": "python",
            "file_extension": ".py"
        }
    },
    "nbformat": 4,
    "nbformat_minor": 1
}